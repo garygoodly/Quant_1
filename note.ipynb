{
 "cells": [
  {
   "cell_type": "markdown",
   "id": "87fce3d5",
   "metadata": {},
   "source": [
    "# A. Market"
   ]
  },
  {
   "cell_type": "markdown",
   "id": "3b653454",
   "metadata": {},
   "source": [
    "## 1. Market"
   ]
  },
  {
   "cell_type": "markdown",
   "id": "6f0a39b2",
   "metadata": {},
   "source": [
    "### a. Money Market (貨幣) vs. Capital Market (資本)"
   ]
  },
  {
   "cell_type": "markdown",
   "id": "8339efd6",
   "metadata": {},
   "source": [
    "#### (1) Money Market (貨幣):\n",
    "金融工具期限 < 1年的市場  \n",
    "解決短期、臨時的資金需求  \n",
    "(1) 期限短  \n",
    "(2) 風險小（易變現）  \n",
    "(3) 流動性好  \n",
    "e.g.: 同業拆借市場、票據貼現市場、回購協議市場、短期債券 （借票購短）  \n",
    "\n",
    "#### (2)  Capital Market (資本):\n",
    "金融工具期限 < 1年的市場  \n",
    "解決長期的資金需求  \n",
    "(1) 期限長  \n",
    "(2) 風險較大（易變現）  \n",
    "(3) 流動性較差  \n",
    "e.g.: 股票市場、債券市場、中長期信貸市場  "
   ]
  },
  {
   "cell_type": "markdown",
   "id": "cdffb66e",
   "metadata": {},
   "source": [
    "## 2. Financial Tool"
   ]
  },
  {
   "cell_type": "markdown",
   "id": "c1d2178c",
   "metadata": {},
   "source": [
    "### a. Stock vs. Bonds\n",
    "#### (1) Stock\n"
   ]
  },
  {
   "cell_type": "markdown",
   "id": "3a94abaf",
   "metadata": {},
   "source": [
    "公司賣出所有權給股東  \n"
   ]
  }
 ],
 "metadata": {
  "language_info": {
   "name": "python"
  }
 },
 "nbformat": 4,
 "nbformat_minor": 5
}
