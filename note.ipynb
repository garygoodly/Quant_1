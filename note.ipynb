{
 "cells": [
  {
   "cell_type": "markdown",
   "id": "87fce3d5",
   "metadata": {},
   "source": [
    "# A. Market"
   ]
  },
  {
   "cell_type": "markdown",
   "id": "3b653454",
   "metadata": {},
   "source": [
    "## 1. Market"
   ]
  },
  {
   "cell_type": "markdown",
   "id": "6f0a39b2",
   "metadata": {},
   "source": [
    "### a. Money Market (貨幣) vs. Capital Market (資本)"
   ]
  },
  {
   "cell_type": "markdown",
   "id": "8339efd6",
   "metadata": {},
   "source": [
    "#### (1) "
   ]
  }
 ],
 "metadata": {
  "language_info": {
   "name": "python"
  }
 },
 "nbformat": 4,
 "nbformat_minor": 5
}
